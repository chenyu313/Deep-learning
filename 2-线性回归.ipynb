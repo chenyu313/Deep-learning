{
 "cells": [
  {
   "attachments": {},
   "cell_type": "markdown",
   "metadata": {},
   "source": [
    "# 线性模型"
   ]
  },
  {
   "attachments": {},
   "cell_type": "markdown",
   "metadata": {},
   "source": [
    "线性模型可以看做是单层神经网络。神经网络源于神经科学。  \n",
    "【一个简化的模型】：\n",
    "* 影响房价的关键因素是卧室的个数、卫生间个数、和居住面积，记为x1，x2，x3\n",
    "* 成交价是关键因素的加权和（权重和偏差值在后面决定） \n",
    "\n",
    "\n",
    "【平方损失】：比较真实值与预估值，值越小越好（即损失越小越好）。  \n",
    "\n",
    "【训练数据】：收集一些数据来决定参数值（权重和偏差），通常越多越好。  \n",
    "\n",
    "【参数学习】：\n",
    "* 训练损失\n",
    "* 最小化损失来学习参数\n",
    "\n",
    "【显示解】：\n",
    "* 将偏差加入权重\n",
    "* 损失是凸函数，所以最优解满足\n",
    "\n",
    "【总结】：\n",
    "* 线性回归是对n维输入的加权，外加偏差\n",
    "* 使用平方损失来衡量预测值和真实值的差异\n",
    "* 线性回归有显示解\n",
    "* 线性回归可以看做单层神经网络"
   ]
  },
  {
   "cell_type": "code",
   "execution_count": null,
   "metadata": {},
   "outputs": [],
   "source": []
  }
 ],
 "metadata": {
  "kernelspec": {
   "display_name": "Python 3",
   "language": "python",
   "name": "python3"
  },
  "language_info": {
   "name": "python",
   "version": "3.8.7"
  },
  "orig_nbformat": 4,
  "vscode": {
   "interpreter": {
    "hash": "570feb405e2e27c949193ac68f46852414290d515b0ba6e5d90d076ed2284471"
   }
  }
 },
 "nbformat": 4,
 "nbformat_minor": 2
}
